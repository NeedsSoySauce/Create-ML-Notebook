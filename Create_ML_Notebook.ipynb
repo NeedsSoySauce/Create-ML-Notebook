{
 "cells": [
  {
   "cell_type": "code",
   "execution_count": 5,
   "id": "sought-penguin",
   "metadata": {},
   "outputs": [
    {
     "name": "stdout",
     "output_type": "stream",
     "text": [
      "tensorflow version = 2.4.1\n",
      "numpy version = 1.19.5\n",
      "pandas version = 1.2.3\n",
      "sklearn version = 0.24.1\n",
      "matplotlib version = 3.4.0\n"
     ]
    }
   ],
   "source": [
    "import tensorflow as tf\n",
    "import numpy as np\n",
    "import pandas as pd\n",
    "import sklearn\n",
    "import matplotlib\n",
    "\n",
    "print(f'tensorflow version = {tf.__version__}')\n",
    "print(f'numpy version = {np.__version__}')\n",
    "print(f'pandas version = {pd.__version__}')\n",
    "print(f'sklearn version = {sklearn.__version__}')\n",
    "print(f'matplotlib version = {matplotlib.__version__}')"
   ]
  },
  {
   "cell_type": "code",
   "execution_count": null,
   "id": "typical-analysis",
   "metadata": {},
   "outputs": [],
   "source": []
  }
 ],
 "metadata": {
  "kernelspec": {
   "display_name": "Python 3",
   "language": "python",
   "name": "python3"
  },
  "language_info": {
   "codemirror_mode": {
    "name": "ipython",
    "version": 3
   },
   "file_extension": ".py",
   "mimetype": "text/x-python",
   "name": "python",
   "nbconvert_exporter": "python",
   "pygments_lexer": "ipython3",
   "version": "3.7.3"
  }
 },
 "nbformat": 4,
 "nbformat_minor": 5
}
